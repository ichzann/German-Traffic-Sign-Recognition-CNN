{
 "cells": [
  {
   "cell_type": "code",
   "execution_count": 1,
   "id": "777659df",
   "metadata": {},
   "outputs": [
    {
     "name": "stderr",
     "output_type": "stream",
     "text": [
      "/Users/ihsanbolum/Library/Python/3.9/lib/python/site-packages/urllib3/__init__.py:35: NotOpenSSLWarning: urllib3 v2 only supports OpenSSL 1.1.1+, currently the 'ssl' module is compiled with 'LibreSSL 2.8.3'. See: https://github.com/urllib3/urllib3/issues/3020\n",
      "  warnings.warn(\n"
     ]
    },
    {
     "name": "stdout",
     "output_type": "stream",
     "text": [
      "Path to dataset files: /Users/ihsanbolum/.cache/kagglehub/datasets/meowmeowmeowmeowmeow/gtsrb-german-traffic-sign/versions/1\n"
     ]
    }
   ],
   "source": [
    "import kagglehub\n",
    "\n",
    "# Download latest version\n",
    "path = kagglehub.dataset_download(\"meowmeowmeowmeowmeow/gtsrb-german-traffic-sign\")\n",
    "\n",
    "print(\"Path to dataset files:\", path)"
   ]
  },
  {
   "cell_type": "code",
   "execution_count": 2,
   "id": "5adde4e6",
   "metadata": {},
   "outputs": [],
   "source": [
    "path = \"/Users/ihsanbolum/.cache/kagglehub/datasets/meowmeowmeowmeowmeow/gtsrb-german-traffic-sign/versions/1\"\n",
    "import os\n",
    "import numpy as np\n",
    "import cv2\n",
    "import pandas as pd\n",
    "from tqdm import tqdm"
   ]
  },
  {
   "cell_type": "code",
   "execution_count": 3,
   "id": "f27ae3af",
   "metadata": {},
   "outputs": [
    {
     "name": "stdout",
     "output_type": "stream",
     "text": [
      "files ['Test', 'Test.csv', 'Meta', 'Train', 'Meta.csv', 'Train.csv']\n",
      "39209 training files\n"
     ]
    }
   ],
   "source": [
    "print(f\"files {os.listdir(path)}\")\n",
    "\n",
    "img_height = 32\n",
    "img_width = 32\n",
    "num_clases = 43\n",
    "\n",
    "train_cvs_path = os.path.join(path, \"Train.csv\")\n",
    "data = pd.read_csv(train_cvs_path)\n",
    "\n",
    "print(f\"{len(data)} training files\")\n",
    "\n",
    "imgs = []\n",
    "labels = []"
   ]
  },
  {
   "cell_type": "code",
   "execution_count": 4,
   "id": "b6b24db2",
   "metadata": {},
   "outputs": [
    {
     "name": "stdout",
     "output_type": "stream",
     "text": [
      "39209\n"
     ]
    }
   ],
   "source": [
    "print(data.shape[0])"
   ]
  },
  {
   "cell_type": "code",
   "execution_count": 5,
   "id": "87e47876",
   "metadata": {},
   "outputs": [
    {
     "name": "stderr",
     "output_type": "stream",
     "text": [
      "100%|██████████| 39209/39209 [00:12<00:00, 3159.60it/s]\n"
     ]
    }
   ],
   "source": [
    "for index, row in tqdm(data.iterrows(), total=data.shape[0]):\n",
    "    img_path = os.path.join(path, row[\"Path\"])\n",
    "    img = cv2.imread(img_path)\n",
    "    img = cv2.resize(img, (img_height, img_width))\n",
    "    img = img / 255.0\n",
    "    imgs.append(img)\n",
    "    labels.append(row[\"ClassId\"])"
   ]
  },
  {
   "cell_type": "code",
   "execution_count": 6,
   "id": "c716d7e7",
   "metadata": {},
   "outputs": [],
   "source": [
    "x_train = np.array(imgs)\n",
    "y_train = np.array(labels)"
   ]
  },
  {
   "cell_type": "code",
   "execution_count": 7,
   "id": "379c3921",
   "metadata": {},
   "outputs": [
    {
     "name": "stdout",
     "output_type": "stream",
     "text": [
      "x_train shape: (31367, 32, 32, 3)\n",
      "x_validation shape: (7842,)\n",
      "y_train shape: (7842, 32, 32, 3)\n",
      "y_validation shape: (31367,)\n"
     ]
    }
   ],
   "source": [
    "from sklearn.model_selection import train_test_split\n",
    "from tensorflow.keras.utils import to_categorical\n",
    "\n",
    "x_train, y_train, y_validation, x_validation = train_test_split(\n",
    "    x_train,\n",
    "    y_train,\n",
    "    test_size=0.2,\n",
    "    random_state=42,\n",
    "    stratify=y_train\n",
    ")\n",
    "\n",
    "print(f\"x_train shape: {x_train.shape}\")\n",
    "print(f\"x_validation shape: {x_validation.shape}\")\n",
    "print(f\"y_train shape: {y_train.shape}\")\n",
    "print(f\"y_validation shape: {y_validation.shape}\")\n",
    "\n",
    "y_train_catego = to_categorical(y_train, num_clases)\n",
    "y_validation_catego = to_categorical(y_validation, num_clases)\n",
    "\n"
   ]
  },
  {
   "cell_type": "code",
   "execution_count": 8,
   "id": "efed7a24",
   "metadata": {},
   "outputs": [
    {
     "name": "stdout",
     "output_type": "stream",
     "text": [
      "origin label [[[0.38431373 0.56862745 0.64705882]\n",
      "  [0.38823529 0.55294118 0.64705882]\n",
      "  [0.48627451 0.65882353 0.69803922]\n",
      "  ...\n",
      "  [0.21568627 0.30980392 0.34901961]\n",
      "  [0.23137255 0.31764706 0.33333333]\n",
      "  [0.21568627 0.28627451 0.30196078]]\n",
      "\n",
      " [[0.3372549  0.55686275 0.63137255]\n",
      "  [0.34509804 0.5254902  0.63921569]\n",
      "  [0.26666667 0.46666667 0.49019608]\n",
      "  ...\n",
      "  [0.21568627 0.33333333 0.34117647]\n",
      "  [0.25098039 0.35294118 0.35686275]\n",
      "  [0.24705882 0.29411765 0.29411765]]\n",
      "\n",
      " [[0.26666667 0.44705882 0.55686275]\n",
      "  [0.36470588 0.5254902  0.63529412]\n",
      "  [0.27843137 0.47843137 0.52941176]\n",
      "  ...\n",
      "  [0.21568627 0.30588235 0.35294118]\n",
      "  [0.24313725 0.30980392 0.30980392]\n",
      "  [0.26666667 0.3254902  0.34117647]]\n",
      "\n",
      " ...\n",
      "\n",
      " [[0.23137255 0.30588235 0.3372549 ]\n",
      "  [0.45490196 0.48627451 0.42745098]\n",
      "  [0.34509804 0.43529412 0.34509804]\n",
      "  ...\n",
      "  [0.11372549 0.16470588 0.58039216]\n",
      "  [0.29411765 0.25882353 0.59215686]\n",
      "  [0.37647059 0.40784314 0.58039216]]\n",
      "\n",
      " [[0.35294118 0.41568627 0.57647059]\n",
      "  [0.36078431 0.44313725 0.54509804]\n",
      "  [0.49019608 0.52156863 0.64705882]\n",
      "  ...\n",
      "  [0.20392157 0.28235294 0.62352941]\n",
      "  [0.13333333 0.16862745 0.56470588]\n",
      "  [0.36078431 0.40392157 0.64705882]]\n",
      "\n",
      " [[0.41960784 0.44313725 0.67843137]\n",
      "  [0.41176471 0.41176471 0.49803922]\n",
      "  [0.6627451  0.62352941 0.6627451 ]\n",
      "  ...\n",
      "  [0.5254902  0.57647059 0.8       ]\n",
      "  [0.11764706 0.16470588 0.57647059]\n",
      "  [0.28235294 0.25098039 0.59607843]]]\n",
      "hot encoded version [[[[1. 0. 0. ... 0. 0. 0.]\n",
      "   [1. 0. 0. ... 0. 0. 0.]\n",
      "   [1. 0. 0. ... 0. 0. 0.]]\n",
      "\n",
      "  [[1. 0. 0. ... 0. 0. 0.]\n",
      "   [1. 0. 0. ... 0. 0. 0.]\n",
      "   [1. 0. 0. ... 0. 0. 0.]]\n",
      "\n",
      "  [[1. 0. 0. ... 0. 0. 0.]\n",
      "   [1. 0. 0. ... 0. 0. 0.]\n",
      "   [1. 0. 0. ... 0. 0. 0.]]\n",
      "\n",
      "  ...\n",
      "\n",
      "  [[1. 0. 0. ... 0. 0. 0.]\n",
      "   [1. 0. 0. ... 0. 0. 0.]\n",
      "   [1. 0. 0. ... 0. 0. 0.]]\n",
      "\n",
      "  [[1. 0. 0. ... 0. 0. 0.]\n",
      "   [1. 0. 0. ... 0. 0. 0.]\n",
      "   [1. 0. 0. ... 0. 0. 0.]]\n",
      "\n",
      "  [[1. 0. 0. ... 0. 0. 0.]\n",
      "   [1. 0. 0. ... 0. 0. 0.]\n",
      "   [1. 0. 0. ... 0. 0. 0.]]]\n",
      "\n",
      "\n",
      " [[[1. 0. 0. ... 0. 0. 0.]\n",
      "   [1. 0. 0. ... 0. 0. 0.]\n",
      "   [1. 0. 0. ... 0. 0. 0.]]\n",
      "\n",
      "  [[1. 0. 0. ... 0. 0. 0.]\n",
      "   [1. 0. 0. ... 0. 0. 0.]\n",
      "   [1. 0. 0. ... 0. 0. 0.]]\n",
      "\n",
      "  [[1. 0. 0. ... 0. 0. 0.]\n",
      "   [1. 0. 0. ... 0. 0. 0.]\n",
      "   [1. 0. 0. ... 0. 0. 0.]]\n",
      "\n",
      "  ...\n",
      "\n",
      "  [[1. 0. 0. ... 0. 0. 0.]\n",
      "   [1. 0. 0. ... 0. 0. 0.]\n",
      "   [1. 0. 0. ... 0. 0. 0.]]\n",
      "\n",
      "  [[1. 0. 0. ... 0. 0. 0.]\n",
      "   [1. 0. 0. ... 0. 0. 0.]\n",
      "   [1. 0. 0. ... 0. 0. 0.]]\n",
      "\n",
      "  [[1. 0. 0. ... 0. 0. 0.]\n",
      "   [1. 0. 0. ... 0. 0. 0.]\n",
      "   [1. 0. 0. ... 0. 0. 0.]]]\n",
      "\n",
      "\n",
      " [[[1. 0. 0. ... 0. 0. 0.]\n",
      "   [1. 0. 0. ... 0. 0. 0.]\n",
      "   [1. 0. 0. ... 0. 0. 0.]]\n",
      "\n",
      "  [[1. 0. 0. ... 0. 0. 0.]\n",
      "   [1. 0. 0. ... 0. 0. 0.]\n",
      "   [1. 0. 0. ... 0. 0. 0.]]\n",
      "\n",
      "  [[1. 0. 0. ... 0. 0. 0.]\n",
      "   [1. 0. 0. ... 0. 0. 0.]\n",
      "   [1. 0. 0. ... 0. 0. 0.]]\n",
      "\n",
      "  ...\n",
      "\n",
      "  [[1. 0. 0. ... 0. 0. 0.]\n",
      "   [1. 0. 0. ... 0. 0. 0.]\n",
      "   [1. 0. 0. ... 0. 0. 0.]]\n",
      "\n",
      "  [[1. 0. 0. ... 0. 0. 0.]\n",
      "   [1. 0. 0. ... 0. 0. 0.]\n",
      "   [1. 0. 0. ... 0. 0. 0.]]\n",
      "\n",
      "  [[1. 0. 0. ... 0. 0. 0.]\n",
      "   [1. 0. 0. ... 0. 0. 0.]\n",
      "   [1. 0. 0. ... 0. 0. 0.]]]\n",
      "\n",
      "\n",
      " ...\n",
      "\n",
      "\n",
      " [[[1. 0. 0. ... 0. 0. 0.]\n",
      "   [1. 0. 0. ... 0. 0. 0.]\n",
      "   [1. 0. 0. ... 0. 0. 0.]]\n",
      "\n",
      "  [[1. 0. 0. ... 0. 0. 0.]\n",
      "   [1. 0. 0. ... 0. 0. 0.]\n",
      "   [1. 0. 0. ... 0. 0. 0.]]\n",
      "\n",
      "  [[1. 0. 0. ... 0. 0. 0.]\n",
      "   [1. 0. 0. ... 0. 0. 0.]\n",
      "   [1. 0. 0. ... 0. 0. 0.]]\n",
      "\n",
      "  ...\n",
      "\n",
      "  [[1. 0. 0. ... 0. 0. 0.]\n",
      "   [1. 0. 0. ... 0. 0. 0.]\n",
      "   [1. 0. 0. ... 0. 0. 0.]]\n",
      "\n",
      "  [[1. 0. 0. ... 0. 0. 0.]\n",
      "   [1. 0. 0. ... 0. 0. 0.]\n",
      "   [1. 0. 0. ... 0. 0. 0.]]\n",
      "\n",
      "  [[1. 0. 0. ... 0. 0. 0.]\n",
      "   [1. 0. 0. ... 0. 0. 0.]\n",
      "   [1. 0. 0. ... 0. 0. 0.]]]\n",
      "\n",
      "\n",
      " [[[1. 0. 0. ... 0. 0. 0.]\n",
      "   [1. 0. 0. ... 0. 0. 0.]\n",
      "   [1. 0. 0. ... 0. 0. 0.]]\n",
      "\n",
      "  [[1. 0. 0. ... 0. 0. 0.]\n",
      "   [1. 0. 0. ... 0. 0. 0.]\n",
      "   [1. 0. 0. ... 0. 0. 0.]]\n",
      "\n",
      "  [[1. 0. 0. ... 0. 0. 0.]\n",
      "   [1. 0. 0. ... 0. 0. 0.]\n",
      "   [1. 0. 0. ... 0. 0. 0.]]\n",
      "\n",
      "  ...\n",
      "\n",
      "  [[1. 0. 0. ... 0. 0. 0.]\n",
      "   [1. 0. 0. ... 0. 0. 0.]\n",
      "   [1. 0. 0. ... 0. 0. 0.]]\n",
      "\n",
      "  [[1. 0. 0. ... 0. 0. 0.]\n",
      "   [1. 0. 0. ... 0. 0. 0.]\n",
      "   [1. 0. 0. ... 0. 0. 0.]]\n",
      "\n",
      "  [[1. 0. 0. ... 0. 0. 0.]\n",
      "   [1. 0. 0. ... 0. 0. 0.]\n",
      "   [1. 0. 0. ... 0. 0. 0.]]]\n",
      "\n",
      "\n",
      " [[[1. 0. 0. ... 0. 0. 0.]\n",
      "   [1. 0. 0. ... 0. 0. 0.]\n",
      "   [1. 0. 0. ... 0. 0. 0.]]\n",
      "\n",
      "  [[1. 0. 0. ... 0. 0. 0.]\n",
      "   [1. 0. 0. ... 0. 0. 0.]\n",
      "   [1. 0. 0. ... 0. 0. 0.]]\n",
      "\n",
      "  [[1. 0. 0. ... 0. 0. 0.]\n",
      "   [1. 0. 0. ... 0. 0. 0.]\n",
      "   [1. 0. 0. ... 0. 0. 0.]]\n",
      "\n",
      "  ...\n",
      "\n",
      "  [[1. 0. 0. ... 0. 0. 0.]\n",
      "   [1. 0. 0. ... 0. 0. 0.]\n",
      "   [1. 0. 0. ... 0. 0. 0.]]\n",
      "\n",
      "  [[1. 0. 0. ... 0. 0. 0.]\n",
      "   [1. 0. 0. ... 0. 0. 0.]\n",
      "   [1. 0. 0. ... 0. 0. 0.]]\n",
      "\n",
      "  [[1. 0. 0. ... 0. 0. 0.]\n",
      "   [1. 0. 0. ... 0. 0. 0.]\n",
      "   [1. 0. 0. ... 0. 0. 0.]]]]\n"
     ]
    }
   ],
   "source": [
    "print(f\"origin label {y_train[0]}\")\n",
    "print(f\"hot encoded version {y_train_catego[0]}\")"
   ]
  },
  {
   "cell_type": "code",
   "execution_count": 9,
   "id": "cd3042e7",
   "metadata": {},
   "outputs": [
    {
     "name": "stderr",
     "output_type": "stream",
     "text": [
      "/Users/ihsanbolum/Library/Python/3.9/lib/python/site-packages/keras/src/layers/convolutional/base_conv.py:113: UserWarning: Do not pass an `input_shape`/`input_dim` argument to a layer. When using Sequential models, prefer using an `Input(shape)` object as the first layer in the model instead.\n",
      "  super().__init__(activity_regularizer=activity_regularizer, **kwargs)\n"
     ]
    },
    {
     "data": {
      "text/html": [
       "<pre style=\"white-space:pre;overflow-x:auto;line-height:normal;font-family:Menlo,'DejaVu Sans Mono',consolas,'Courier New',monospace\"><span style=\"font-weight: bold\">Model: \"sequential\"</span>\n",
       "</pre>\n"
      ],
      "text/plain": [
       "\u001b[1mModel: \"sequential\"\u001b[0m\n"
      ]
     },
     "metadata": {},
     "output_type": "display_data"
    },
    {
     "data": {
      "text/html": [
       "<pre style=\"white-space:pre;overflow-x:auto;line-height:normal;font-family:Menlo,'DejaVu Sans Mono',consolas,'Courier New',monospace\">┏━━━━━━━━━━━━━━━━━━━━━━━━━━━━━━━━━┳━━━━━━━━━━━━━━━━━━━━━━━━┳━━━━━━━━━━━━━━━┓\n",
       "┃<span style=\"font-weight: bold\"> Layer (type)                    </span>┃<span style=\"font-weight: bold\"> Output Shape           </span>┃<span style=\"font-weight: bold\">       Param # </span>┃\n",
       "┡━━━━━━━━━━━━━━━━━━━━━━━━━━━━━━━━━╇━━━━━━━━━━━━━━━━━━━━━━━━╇━━━━━━━━━━━━━━━┩\n",
       "│ conv2d (<span style=\"color: #0087ff; text-decoration-color: #0087ff\">Conv2D</span>)                 │ (<span style=\"color: #00d7ff; text-decoration-color: #00d7ff\">None</span>, <span style=\"color: #00af00; text-decoration-color: #00af00\">30</span>, <span style=\"color: #00af00; text-decoration-color: #00af00\">30</span>, <span style=\"color: #00af00; text-decoration-color: #00af00\">32</span>)     │           <span style=\"color: #00af00; text-decoration-color: #00af00\">896</span> │\n",
       "├─────────────────────────────────┼────────────────────────┼───────────────┤\n",
       "│ max_pooling2d (<span style=\"color: #0087ff; text-decoration-color: #0087ff\">MaxPooling2D</span>)    │ (<span style=\"color: #00d7ff; text-decoration-color: #00d7ff\">None</span>, <span style=\"color: #00af00; text-decoration-color: #00af00\">15</span>, <span style=\"color: #00af00; text-decoration-color: #00af00\">15</span>, <span style=\"color: #00af00; text-decoration-color: #00af00\">32</span>)     │             <span style=\"color: #00af00; text-decoration-color: #00af00\">0</span> │\n",
       "├─────────────────────────────────┼────────────────────────┼───────────────┤\n",
       "│ conv2d_1 (<span style=\"color: #0087ff; text-decoration-color: #0087ff\">Conv2D</span>)               │ (<span style=\"color: #00d7ff; text-decoration-color: #00d7ff\">None</span>, <span style=\"color: #00af00; text-decoration-color: #00af00\">13</span>, <span style=\"color: #00af00; text-decoration-color: #00af00\">13</span>, <span style=\"color: #00af00; text-decoration-color: #00af00\">64</span>)     │        <span style=\"color: #00af00; text-decoration-color: #00af00\">18,496</span> │\n",
       "├─────────────────────────────────┼────────────────────────┼───────────────┤\n",
       "│ max_pooling2d_1 (<span style=\"color: #0087ff; text-decoration-color: #0087ff\">MaxPooling2D</span>)  │ (<span style=\"color: #00d7ff; text-decoration-color: #00d7ff\">None</span>, <span style=\"color: #00af00; text-decoration-color: #00af00\">6</span>, <span style=\"color: #00af00; text-decoration-color: #00af00\">6</span>, <span style=\"color: #00af00; text-decoration-color: #00af00\">64</span>)       │             <span style=\"color: #00af00; text-decoration-color: #00af00\">0</span> │\n",
       "├─────────────────────────────────┼────────────────────────┼───────────────┤\n",
       "│ flatten (<span style=\"color: #0087ff; text-decoration-color: #0087ff\">Flatten</span>)               │ (<span style=\"color: #00d7ff; text-decoration-color: #00d7ff\">None</span>, <span style=\"color: #00af00; text-decoration-color: #00af00\">2304</span>)           │             <span style=\"color: #00af00; text-decoration-color: #00af00\">0</span> │\n",
       "├─────────────────────────────────┼────────────────────────┼───────────────┤\n",
       "│ dense (<span style=\"color: #0087ff; text-decoration-color: #0087ff\">Dense</span>)                   │ (<span style=\"color: #00d7ff; text-decoration-color: #00d7ff\">None</span>, <span style=\"color: #00af00; text-decoration-color: #00af00\">128</span>)            │       <span style=\"color: #00af00; text-decoration-color: #00af00\">295,040</span> │\n",
       "├─────────────────────────────────┼────────────────────────┼───────────────┤\n",
       "│ dropout (<span style=\"color: #0087ff; text-decoration-color: #0087ff\">Dropout</span>)               │ (<span style=\"color: #00d7ff; text-decoration-color: #00d7ff\">None</span>, <span style=\"color: #00af00; text-decoration-color: #00af00\">128</span>)            │             <span style=\"color: #00af00; text-decoration-color: #00af00\">0</span> │\n",
       "├─────────────────────────────────┼────────────────────────┼───────────────┤\n",
       "│ dense_1 (<span style=\"color: #0087ff; text-decoration-color: #0087ff\">Dense</span>)                 │ (<span style=\"color: #00d7ff; text-decoration-color: #00d7ff\">None</span>, <span style=\"color: #00af00; text-decoration-color: #00af00\">43</span>)             │         <span style=\"color: #00af00; text-decoration-color: #00af00\">5,547</span> │\n",
       "└─────────────────────────────────┴────────────────────────┴───────────────┘\n",
       "</pre>\n"
      ],
      "text/plain": [
       "┏━━━━━━━━━━━━━━━━━━━━━━━━━━━━━━━━━┳━━━━━━━━━━━━━━━━━━━━━━━━┳━━━━━━━━━━━━━━━┓\n",
       "┃\u001b[1m \u001b[0m\u001b[1mLayer (type)                   \u001b[0m\u001b[1m \u001b[0m┃\u001b[1m \u001b[0m\u001b[1mOutput Shape          \u001b[0m\u001b[1m \u001b[0m┃\u001b[1m \u001b[0m\u001b[1m      Param #\u001b[0m\u001b[1m \u001b[0m┃\n",
       "┡━━━━━━━━━━━━━━━━━━━━━━━━━━━━━━━━━╇━━━━━━━━━━━━━━━━━━━━━━━━╇━━━━━━━━━━━━━━━┩\n",
       "│ conv2d (\u001b[38;5;33mConv2D\u001b[0m)                 │ (\u001b[38;5;45mNone\u001b[0m, \u001b[38;5;34m30\u001b[0m, \u001b[38;5;34m30\u001b[0m, \u001b[38;5;34m32\u001b[0m)     │           \u001b[38;5;34m896\u001b[0m │\n",
       "├─────────────────────────────────┼────────────────────────┼───────────────┤\n",
       "│ max_pooling2d (\u001b[38;5;33mMaxPooling2D\u001b[0m)    │ (\u001b[38;5;45mNone\u001b[0m, \u001b[38;5;34m15\u001b[0m, \u001b[38;5;34m15\u001b[0m, \u001b[38;5;34m32\u001b[0m)     │             \u001b[38;5;34m0\u001b[0m │\n",
       "├─────────────────────────────────┼────────────────────────┼───────────────┤\n",
       "│ conv2d_1 (\u001b[38;5;33mConv2D\u001b[0m)               │ (\u001b[38;5;45mNone\u001b[0m, \u001b[38;5;34m13\u001b[0m, \u001b[38;5;34m13\u001b[0m, \u001b[38;5;34m64\u001b[0m)     │        \u001b[38;5;34m18,496\u001b[0m │\n",
       "├─────────────────────────────────┼────────────────────────┼───────────────┤\n",
       "│ max_pooling2d_1 (\u001b[38;5;33mMaxPooling2D\u001b[0m)  │ (\u001b[38;5;45mNone\u001b[0m, \u001b[38;5;34m6\u001b[0m, \u001b[38;5;34m6\u001b[0m, \u001b[38;5;34m64\u001b[0m)       │             \u001b[38;5;34m0\u001b[0m │\n",
       "├─────────────────────────────────┼────────────────────────┼───────────────┤\n",
       "│ flatten (\u001b[38;5;33mFlatten\u001b[0m)               │ (\u001b[38;5;45mNone\u001b[0m, \u001b[38;5;34m2304\u001b[0m)           │             \u001b[38;5;34m0\u001b[0m │\n",
       "├─────────────────────────────────┼────────────────────────┼───────────────┤\n",
       "│ dense (\u001b[38;5;33mDense\u001b[0m)                   │ (\u001b[38;5;45mNone\u001b[0m, \u001b[38;5;34m128\u001b[0m)            │       \u001b[38;5;34m295,040\u001b[0m │\n",
       "├─────────────────────────────────┼────────────────────────┼───────────────┤\n",
       "│ dropout (\u001b[38;5;33mDropout\u001b[0m)               │ (\u001b[38;5;45mNone\u001b[0m, \u001b[38;5;34m128\u001b[0m)            │             \u001b[38;5;34m0\u001b[0m │\n",
       "├─────────────────────────────────┼────────────────────────┼───────────────┤\n",
       "│ dense_1 (\u001b[38;5;33mDense\u001b[0m)                 │ (\u001b[38;5;45mNone\u001b[0m, \u001b[38;5;34m43\u001b[0m)             │         \u001b[38;5;34m5,547\u001b[0m │\n",
       "└─────────────────────────────────┴────────────────────────┴───────────────┘\n"
      ]
     },
     "metadata": {},
     "output_type": "display_data"
    },
    {
     "data": {
      "text/html": [
       "<pre style=\"white-space:pre;overflow-x:auto;line-height:normal;font-family:Menlo,'DejaVu Sans Mono',consolas,'Courier New',monospace\"><span style=\"font-weight: bold\"> Total params: </span><span style=\"color: #00af00; text-decoration-color: #00af00\">319,979</span> (1.22 MB)\n",
       "</pre>\n"
      ],
      "text/plain": [
       "\u001b[1m Total params: \u001b[0m\u001b[38;5;34m319,979\u001b[0m (1.22 MB)\n"
      ]
     },
     "metadata": {},
     "output_type": "display_data"
    },
    {
     "data": {
      "text/html": [
       "<pre style=\"white-space:pre;overflow-x:auto;line-height:normal;font-family:Menlo,'DejaVu Sans Mono',consolas,'Courier New',monospace\"><span style=\"font-weight: bold\"> Trainable params: </span><span style=\"color: #00af00; text-decoration-color: #00af00\">319,979</span> (1.22 MB)\n",
       "</pre>\n"
      ],
      "text/plain": [
       "\u001b[1m Trainable params: \u001b[0m\u001b[38;5;34m319,979\u001b[0m (1.22 MB)\n"
      ]
     },
     "metadata": {},
     "output_type": "display_data"
    },
    {
     "data": {
      "text/html": [
       "<pre style=\"white-space:pre;overflow-x:auto;line-height:normal;font-family:Menlo,'DejaVu Sans Mono',consolas,'Courier New',monospace\"><span style=\"font-weight: bold\"> Non-trainable params: </span><span style=\"color: #00af00; text-decoration-color: #00af00\">0</span> (0.00 B)\n",
       "</pre>\n"
      ],
      "text/plain": [
       "\u001b[1m Non-trainable params: \u001b[0m\u001b[38;5;34m0\u001b[0m (0.00 B)\n"
      ]
     },
     "metadata": {},
     "output_type": "display_data"
    }
   ],
   "source": [
    "import tensorflow as tf \n",
    "from tensorflow.keras.models import Sequential\n",
    "from tensorflow.keras.layers import Conv2D, MaxPooling2D, Flatten, Dense, Dropout\n",
    "\n",
    "model = Sequential()\n",
    "\n",
    "model.add(Conv2D(32, (3,3), activation= \"relu\", input_shape=(img_height,img_width, 3)))\n",
    "model.add(MaxPooling2D(pool_size=(2,2)))\n",
    "\n",
    "model.add(Conv2D(64, (3,3), activation= \"relu\"))\n",
    "model.add(MaxPooling2D(pool_size=(2,2)))\n",
    "\n",
    "model.add(Flatten())\n",
    "model.add(Dense(128, activation=\"relu\"))\n",
    "model.add(Dropout(0.5))\n",
    "\n",
    "model.add(Dense(num_clases, activation=\"softmax\"))\n",
    "\n",
    "model.compile(\n",
    "    optimizer = \"adam\",\n",
    "    loss= \"categorical_crossentropy\",\n",
    "    metrics = [\"accuracy\"]\n",
    ")\n",
    "\n",
    "model.summary()"
   ]
  },
  {
   "cell_type": "code",
   "execution_count": 11,
   "id": "b41541e2",
   "metadata": {},
   "outputs": [
    {
     "name": "stdout",
     "output_type": "stream",
     "text": [
      "Epoch 1/12\n"
     ]
    },
    {
     "ename": "ValueError",
     "evalue": "Exception encountered when calling Sequential.call().\n\n\u001b[1mInvalid input shape for input Tensor(\"sequential_1/Cast:0\", shape=(None,), dtype=float32). Expected shape (None, 32, 32, 3), but input has incompatible shape (None,)\u001b[0m\n\nArguments received by Sequential.call():\n  • inputs=tf.Tensor(shape=(None,), dtype=int64)\n  • training=True\n  • mask=None\n  • kwargs=<class 'inspect._empty'>",
     "output_type": "error",
     "traceback": [
      "\u001b[0;31m---------------------------------------------------------------------------\u001b[0m",
      "\u001b[0;31mValueError\u001b[0m                                Traceback (most recent call last)",
      "Cell \u001b[0;32mIn[11], line 2\u001b[0m\n\u001b[1;32m      1\u001b[0m train_epochs \u001b[38;5;241m=\u001b[39m \u001b[38;5;241m12\u001b[39m\n\u001b[0;32m----> 2\u001b[0m history \u001b[38;5;241m=\u001b[39m \u001b[43mmodel\u001b[49m\u001b[38;5;241;43m.\u001b[39;49m\u001b[43mfit\u001b[49m\u001b[43m(\u001b[49m\n\u001b[1;32m      3\u001b[0m \u001b[43m    \u001b[49m\u001b[43mx_validation\u001b[49m\u001b[43m,\u001b[49m\n\u001b[1;32m      4\u001b[0m \u001b[43m    \u001b[49m\u001b[43my_train_catego\u001b[49m\u001b[43m,\u001b[49m\n\u001b[1;32m      5\u001b[0m \u001b[43m    \u001b[49m\u001b[43mepochs\u001b[49m\u001b[43m \u001b[49m\u001b[38;5;241;43m=\u001b[39;49m\u001b[43m \u001b[49m\u001b[38;5;241;43m12\u001b[39;49m\u001b[43m,\u001b[49m\n\u001b[1;32m      6\u001b[0m \u001b[43m    \u001b[49m\u001b[43mvalidation_data\u001b[49m\u001b[38;5;241;43m=\u001b[39;49m\u001b[43m \u001b[49m\u001b[43m(\u001b[49m\u001b[43mx_validation\u001b[49m\u001b[43m,\u001b[49m\u001b[43m \u001b[49m\u001b[43my_train_catego\u001b[49m\u001b[43m)\u001b[49m\u001b[43m,\u001b[49m\n\u001b[1;32m      7\u001b[0m \u001b[43m    \u001b[49m\u001b[43mbatch_size\u001b[49m\u001b[38;5;241;43m=\u001b[39;49m\u001b[38;5;241;43m32\u001b[39;49m\n\u001b[1;32m      8\u001b[0m \u001b[43m)\u001b[49m\n\u001b[1;32m     10\u001b[0m \u001b[38;5;28mprint\u001b[39m(\u001b[38;5;124m\"\u001b[39m\u001b[38;5;124mfinito\u001b[39m\u001b[38;5;124m\"\u001b[39m)\n",
      "File \u001b[0;32m~/Library/Python/3.9/lib/python/site-packages/keras/src/utils/traceback_utils.py:122\u001b[0m, in \u001b[0;36mfilter_traceback.<locals>.error_handler\u001b[0;34m(*args, **kwargs)\u001b[0m\n\u001b[1;32m    119\u001b[0m     filtered_tb \u001b[38;5;241m=\u001b[39m _process_traceback_frames(e\u001b[38;5;241m.\u001b[39m__traceback__)\n\u001b[1;32m    120\u001b[0m     \u001b[38;5;66;03m# To get the full stack trace, call:\u001b[39;00m\n\u001b[1;32m    121\u001b[0m     \u001b[38;5;66;03m# `keras.config.disable_traceback_filtering()`\u001b[39;00m\n\u001b[0;32m--> 122\u001b[0m     \u001b[38;5;28;01mraise\u001b[39;00m e\u001b[38;5;241m.\u001b[39mwith_traceback(filtered_tb) \u001b[38;5;28;01mfrom\u001b[39;00m \u001b[38;5;28;01mNone\u001b[39;00m\n\u001b[1;32m    123\u001b[0m \u001b[38;5;28;01mfinally\u001b[39;00m:\n\u001b[1;32m    124\u001b[0m     \u001b[38;5;28;01mdel\u001b[39;00m filtered_tb\n",
      "File \u001b[0;32m~/Library/Python/3.9/lib/python/site-packages/keras/src/models/functional.py:276\u001b[0m, in \u001b[0;36mFunctional._adjust_input_rank\u001b[0;34m(self, flat_inputs)\u001b[0m\n\u001b[1;32m    274\u001b[0m             adjusted\u001b[38;5;241m.\u001b[39mappend(ops\u001b[38;5;241m.\u001b[39mexpand_dims(x, axis\u001b[38;5;241m=\u001b[39m\u001b[38;5;241m-\u001b[39m\u001b[38;5;241m1\u001b[39m))\n\u001b[1;32m    275\u001b[0m             \u001b[38;5;28;01mcontinue\u001b[39;00m\n\u001b[0;32m--> 276\u001b[0m     \u001b[38;5;28;01mraise\u001b[39;00m \u001b[38;5;167;01mValueError\u001b[39;00m(\n\u001b[1;32m    277\u001b[0m         \u001b[38;5;124mf\u001b[39m\u001b[38;5;124m\"\u001b[39m\u001b[38;5;124mInvalid input shape for input \u001b[39m\u001b[38;5;132;01m{\u001b[39;00mx\u001b[38;5;132;01m}\u001b[39;00m\u001b[38;5;124m. Expected shape \u001b[39m\u001b[38;5;124m\"\u001b[39m\n\u001b[1;32m    278\u001b[0m         \u001b[38;5;124mf\u001b[39m\u001b[38;5;124m\"\u001b[39m\u001b[38;5;132;01m{\u001b[39;00mref_shape\u001b[38;5;132;01m}\u001b[39;00m\u001b[38;5;124m, but input has incompatible shape \u001b[39m\u001b[38;5;132;01m{\u001b[39;00mx\u001b[38;5;241m.\u001b[39mshape\u001b[38;5;132;01m}\u001b[39;00m\u001b[38;5;124m\"\u001b[39m\n\u001b[1;32m    279\u001b[0m     )\n\u001b[1;32m    280\u001b[0m \u001b[38;5;66;03m# Add back metadata.\u001b[39;00m\n\u001b[1;32m    281\u001b[0m \u001b[38;5;28;01mfor\u001b[39;00m i \u001b[38;5;129;01min\u001b[39;00m \u001b[38;5;28mrange\u001b[39m(\u001b[38;5;28mlen\u001b[39m(flat_inputs)):\n",
      "\u001b[0;31mValueError\u001b[0m: Exception encountered when calling Sequential.call().\n\n\u001b[1mInvalid input shape for input Tensor(\"sequential_1/Cast:0\", shape=(None,), dtype=float32). Expected shape (None, 32, 32, 3), but input has incompatible shape (None,)\u001b[0m\n\nArguments received by Sequential.call():\n  • inputs=tf.Tensor(shape=(None,), dtype=int64)\n  • training=True\n  • mask=None\n  • kwargs=<class 'inspect._empty'>"
     ]
    }
   ],
   "source": [
    "train_epochs = 12\n",
    "history = model.fit(\n",
    "    x_validation,\n",
    "    y_train_catego,\n",
    "    epochs = 12,\n",
    "    validation_data= (x_validation, y_train_catego),\n",
    "    batch_size=32\n",
    ")\n",
    "\n",
    "print(\"finito\")"
   ]
  }
 ],
 "metadata": {
  "kernelspec": {
   "display_name": "Python 3",
   "language": "python",
   "name": "python3"
  },
  "language_info": {
   "codemirror_mode": {
    "name": "ipython",
    "version": 3
   },
   "file_extension": ".py",
   "mimetype": "text/x-python",
   "name": "python",
   "nbconvert_exporter": "python",
   "pygments_lexer": "ipython3",
   "version": "3.9.6"
  }
 },
 "nbformat": 4,
 "nbformat_minor": 5
}
