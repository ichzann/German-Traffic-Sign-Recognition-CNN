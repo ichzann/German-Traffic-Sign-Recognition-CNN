{
 "cells": [
  {
   "cell_type": "code",
   "execution_count": 32,
   "id": "777659df",
   "metadata": {},
   "outputs": [
    {
     "name": "stdout",
     "output_type": "stream",
     "text": [
      "Path to dataset files: /Users/ihsanbolum/.cache/kagglehub/datasets/meowmeowmeowmeowmeow/gtsrb-german-traffic-sign/versions/1\n"
     ]
    }
   ],
   "source": [
    "import kagglehub\n",
    "\n",
    "# Download latest version\n",
    "path = kagglehub.dataset_download(\"meowmeowmeowmeowmeow/gtsrb-german-traffic-sign\")\n",
    "\n",
    "print(\"Path to dataset files:\", path)"
   ]
  },
  {
   "cell_type": "code",
   "execution_count": 33,
   "id": "5adde4e6",
   "metadata": {},
   "outputs": [],
   "source": [
    "path = \"/Users/ihsanbolum/.cache/kagglehub/datasets/meowmeowmeowmeowmeow/gtsrb-german-traffic-sign/versions/1\"\n",
    "import os"
   ]
  },
  {
   "cell_type": "code",
   "execution_count": 34,
   "id": "f27ae3af",
   "metadata": {},
   "outputs": [
    {
     "name": "stdout",
     "output_type": "stream",
     "text": [
      "files ['Test', 'Test.csv', 'Meta', 'Train', 'Meta.csv', 'Train.csv']\n"
     ]
    }
   ],
   "source": [
    "print(f\"files {os.listdir(path)}\")"
   ]
  },
  {
   "cell_type": "code",
   "execution_count": 35,
   "id": "3e31a7e9",
   "metadata": {},
   "outputs": [
    {
     "name": "stdout",
     "output_type": "stream",
     "text": [
      "Train folder files: ['32', '35', '34', '33', '20', '18', '27', '9', '0', '11', '7', '29', '16', '42', '6', '28', '17', '1', '10', '19', '26', '8', '21', '38', '36', '31', '30', '37', '39', '41', '24', '23', '4', '15', '3', '12', '40', '2', '13', '5', '14', '22', '25']\n"
     ]
    }
   ],
   "source": [
    "train_folder_path = os.path.join(path, \"Train\")\n",
    "print(f\"Train folder files: {os.listdir(train_folder_path)}\") "
   ]
  },
  {
   "cell_type": "code",
   "execution_count": 60,
   "id": "d0441c85",
   "metadata": {},
   "outputs": [
    {
     "name": "stdout",
     "output_type": "stream",
     "text": [
      "/Users/ihsanbolum/.cache/kagglehub/datasets/meowmeowmeowmeowmeow/gtsrb-german-traffic-sign/versions/1/Train/0\n"
     ]
    }
   ],
   "source": [
    "class_0_path = os.path.join(train_folder_path, \"0\")\n",
    "class_1_path = os.path.join(train_folder_path, \"1\")\n",
    "print(class_0_path)"
   ]
  },
  {
   "cell_type": "code",
   "execution_count": 61,
   "id": "fab62d9e",
   "metadata": {},
   "outputs": [
    {
     "name": "stdout",
     "output_type": "stream",
     "text": [
      "00000_00006_00003.png\n"
     ]
    }
   ],
   "source": [
    "first_img_name = os.listdir(class_0_path)[2]\n",
    "print(f\"{first_img_name}\")\n",
    "path_to_1_img = os.path.join(class_0_path, first_img_name)\n"
   ]
  },
  {
   "cell_type": "code",
   "execution_count": 62,
   "id": "17ec385d",
   "metadata": {},
   "outputs": [],
   "source": [
    "import cv2\n",
    "img_load = cv2.imread(path_to_1_img)\n",
    "img_rgb_convert = cv2.cvtColor(img_load, cv2.COLOR_BGR2RGB)"
   ]
  },
  {
   "cell_type": "code",
   "execution_count": 63,
   "id": "2311795d",
   "metadata": {},
   "outputs": [
    {
     "data": {
      "image/png": "[encoded data removed]",
      "text/plain": [
       "<Figure size 640x480 with 1 Axes>"
      ]
     },
     "metadata": {},
     "output_type": "display_data"
    }
   ],
   "source": [
    "import matplotlib.pyplot as plt\n",
    "plt.imshow(img_rgb_convert)\n",
    "plt.show()"
   ]
  },
  {
   "cell_type": "code",
   "execution_count": null,
   "id": "e75bbf62",
   "metadata": {},
   "outputs": [],
   "source": []
  }
 ],
 "metadata": {
  "kernelspec": {
   "display_name": "Python 3",
   "language": "python",
   "name": "python3"
  },
  "language_info": {
   "codemirror_mode": {
    "name": "ipython",
    "version": 3
   },
   "file_extension": ".py",
   "mimetype": "text/x-python",
   "name": "python",
   "nbconvert_exporter": "python",
   "pygments_lexer": "ipython3",
   "version": "3.9.6"
  }
 },
 "nbformat": 4,
 "nbformat_minor": 5
}
